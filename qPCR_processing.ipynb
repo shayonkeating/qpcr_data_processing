{
 "cells": [
  {
   "cell_type": "markdown",
   "metadata": {},
   "source": [
    "## CT Values"
   ]
  },
  {
   "cell_type": "code",
   "execution_count": 1,
   "metadata": {},
   "outputs": [],
   "source": [
    "## BACKGROUND KNOWLEDGE\n",
    "\n",
    "# CT values are specific to your sequence of interest and correspond to the number of cycles to reach\n",
    "# a threshold\n",
    "\n",
    "# Delta CT shows difference between the CT of your sequence of interest and CT of your reference\n",
    "# CT of your ref should be a housekeeping gene\n",
    "\n",
    "# HENCE Delta CT shows the difference of expression between two genes versus just the expression of one\n",
    "\n",
    "# fold change is relative not percise hence how many folds more does this gene express more than a house-\n",
    "# keeping gene? Thats what a qPCR determines"
   ]
  },
  {
   "cell_type": "code",
   "execution_count": 2,
   "metadata": {},
   "outputs": [],
   "source": [
    "# import dep\n",
    "import pandas as pd\n",
    "import numpy as np\n",
    "import matplotlib.pyplot as plt\n",
    "\n",
    "# using this for selecting excel file\n",
    "from tkinter import Tk\n",
    "from tkinter.filedialog import askopenfilename\n",
    "from tkinter import *"
   ]
  },
  {
   "cell_type": "markdown",
   "metadata": {},
   "source": [
    "## Calc CT Values"
   ]
  },
  {
   "cell_type": "code",
   "execution_count": 3,
   "metadata": {},
   "outputs": [
    {
     "name": "stdout",
     "output_type": "stream",
     "text": [
      "/Users/shayonkeating/Documents/Sadikot_Lab/Python_Scripts/pink1_mitofusin_pgc1a_gapdh_data.xls file selected\n"
     ]
    }
   ],
   "source": [
    "#input raw excel file path\n",
    "\n",
    "# Grabbing file to select\n",
    "def grabfile():\n",
    "    Tk().withdraw()\n",
    "    filename = askopenfilename()\n",
    "    input_file = filename\n",
    "    print(filename, \"file selected\")\n",
    "grabfile()\n",
    "\n",
    "\n",
    "\n"
   ]
  },
  {
   "cell_type": "code",
   "execution_count": null,
   "metadata": {},
   "outputs": [
    {
     "name": "stdout",
     "output_type": "stream",
     "text": [
      "  Submitted\n"
     ]
    }
   ],
   "source": [
    "\n",
    "\n",
    "def selection():\n",
    "\n",
    "    import tkinter as tk\n",
    "\n",
    "    root = tk.Tk()\n",
    "    tk.Label(text=\"Please enter sequence of interest: \").grid(row=0,column=0)\n",
    "    tk.Label(text=\"Please enter house keeping gene: \").grid(row=1,column=0)\n",
    "    e = tk.Entry()\n",
    "    p = tk.Entry()\n",
    "\n",
    "    e.grid(row=0,column=1)\n",
    "    p.grid(row=1,column=1)\n",
    "    def get():\n",
    "        gene = e.get()\n",
    "        house_keeping = p.get()\n",
    "        print(gene, house_keeping, \"Submitted\")\n",
    "        root.destroy()\n",
    "    exit_btn=Button(root,text='Submit',command= get,activebackground='grey',activeforeground='#AB78F1',bg='#58F0AB',highlightcolor='red',padx='10px',pady='3px')\n",
    "    exit_btn.grid(row=2,column=1)\n",
    "    root.resizable(False,False)\n",
    "    root.title('Selections')\n",
    "    root.mainloop()\n",
    "\n",
    "selection()\n",
    "\n",
    "\n"
   ]
  },
  {
   "cell_type": "code",
   "execution_count": 16,
   "metadata": {},
   "outputs": [],
   "source": [
    "# read raw excel file and separte sheets into dfs\n",
    "xls = pd.ExcelFile(input_file)\n",
    "# df1 = pd.read_excel(xls, 'Sample Setup')\n",
    "df2 = pd.read_excel(xls, 'Results')\n",
    "# df3 = pd.read_excel(xls, 'Raw Data')\n",
    "# df4 = pd.read_excel(xls, 'Multicomponent Data')\n",
    "# df5 = pd.read_excel(xls, 'Amplification Data')\n",
    "\n",
    "# reset column names and clean df \n",
    "index_name = pd.Index((df2.iloc[6]).to_list())\n",
    "index = df2.drop(df2.index[range(7)])\n",
    "index.columns = index_name\n",
    "\n",
    "# # select only what you need and drop na\n",
    "# index = index[['Well', 'Sample Name', 'Target Name', 'Cт', 'Cт Mean', 'Cт SD']].dropna()"
   ]
  },
  {
   "cell_type": "code",
   "execution_count": 17,
   "metadata": {},
   "outputs": [],
   "source": [
    "# def a gene select processing function that prints the output\n",
    "gene1 = index.loc[index['Target Name'] == gene].reset_index()\n",
    "housekeeping = index.loc[index['Target Name'] == house_keeping].reset_index()\n",
    "\n",
    "# reads in triplicates or reads in duplicates\n",
    "select_gene1 = gene1.loc[::3]\n",
    "select_housekeeping = housekeeping.loc[::3]\n",
    "\n",
    "# delta_ct and  then select first delta_ct value\n",
    "delta_ct = (select_gene1['Cт Mean']-select_housekeeping['Cт Mean'])\n",
    "first_delta_ct = delta_ct.iloc[0]\n",
    "\n",
    "# delta delta ct\n",
    "delta_ct2 = delta_ct - first_delta_ct\n",
    "\n",
    "# fold change\n",
    "fold_change = 2**(-delta_ct2)\n",
    "gene1_list = [select_gene1['Sample Name'], select_gene1['Target Name'],\n",
    "              delta_ct, delta_ct2, fold_change]\n",
    "output = pd.DataFrame(gene1_list).transpose()\n",
    "output.columns = ['Sample Name', 'Target Name', \n",
    "                           'Avg Delta CT', 'Delta Delta CT', 'Fold Inc']\n",
    "\n",
    "# output save\n",
    "output.to_excel(r'/Users/shayonkeating/Documents/Sadikot_Lab/qPCR_output/qPCR.xlsx', index = False)"
   ]
  },
  {
   "cell_type": "markdown",
   "metadata": {},
   "source": [
    "## Bar Plots with CT Values"
   ]
  },
  {
   "cell_type": "code",
   "execution_count": 24,
   "metadata": {},
   "outputs": [
    {
     "data": {
      "text/html": [
       "<div>\n",
       "<style scoped>\n",
       "    .dataframe tbody tr th:only-of-type {\n",
       "        vertical-align: middle;\n",
       "    }\n",
       "\n",
       "    .dataframe tbody tr th {\n",
       "        vertical-align: top;\n",
       "    }\n",
       "\n",
       "    .dataframe thead th {\n",
       "        text-align: right;\n",
       "    }\n",
       "</style>\n",
       "<table border=\"1\" class=\"dataframe\">\n",
       "  <thead>\n",
       "    <tr style=\"text-align: right;\">\n",
       "      <th></th>\n",
       "      <th>Sample Name</th>\n",
       "      <th>Target Name</th>\n",
       "      <th>Avg Delta CT</th>\n",
       "      <th>Delta Delta CT</th>\n",
       "      <th>Fold Inc</th>\n",
       "    </tr>\n",
       "  </thead>\n",
       "  <tbody>\n",
       "    <tr>\n",
       "      <th>0</th>\n",
       "      <td>r_con_tempo_6hr</td>\n",
       "      <td>drp1</td>\n",
       "      <td>6.34576</td>\n",
       "      <td>0</td>\n",
       "      <td>1</td>\n",
       "    </tr>\n",
       "    <tr>\n",
       "      <th>3</th>\n",
       "      <td>r_tempo_6hr</td>\n",
       "      <td>drp1</td>\n",
       "      <td>3.98107</td>\n",
       "      <td>-2.36469</td>\n",
       "      <td>5.1504</td>\n",
       "    </tr>\n",
       "    <tr>\n",
       "      <th>6</th>\n",
       "      <td>r450+tempo_6hr</td>\n",
       "      <td>drp1</td>\n",
       "      <td>3.10142</td>\n",
       "      <td>-3.24434</td>\n",
       "      <td>9.47639</td>\n",
       "    </tr>\n",
       "    <tr>\n",
       "      <th>9</th>\n",
       "      <td>r450_6hr_tempo</td>\n",
       "      <td>drp1</td>\n",
       "      <td>2.73302</td>\n",
       "      <td>-3.61274</td>\n",
       "      <td>12.2333</td>\n",
       "    </tr>\n",
       "    <tr>\n",
       "      <th>12</th>\n",
       "      <td>r_con_perk_4hr</td>\n",
       "      <td>drp1</td>\n",
       "      <td>3.55507</td>\n",
       "      <td>-2.79069</td>\n",
       "      <td>6.91962</td>\n",
       "    </tr>\n",
       "    <tr>\n",
       "      <th>15</th>\n",
       "      <td>r_perk_4hr</td>\n",
       "      <td>drp1</td>\n",
       "      <td>4.94168</td>\n",
       "      <td>-1.40407</td>\n",
       "      <td>2.64648</td>\n",
       "    </tr>\n",
       "    <tr>\n",
       "      <th>18</th>\n",
       "      <td>r450+perk_4hr</td>\n",
       "      <td>drp1</td>\n",
       "      <td>5.03027</td>\n",
       "      <td>-1.31549</td>\n",
       "      <td>2.48887</td>\n",
       "    </tr>\n",
       "    <tr>\n",
       "      <th>21</th>\n",
       "      <td>r450_4hr_perk</td>\n",
       "      <td>drp1</td>\n",
       "      <td>4.75996</td>\n",
       "      <td>-1.5858</td>\n",
       "      <td>3.00175</td>\n",
       "    </tr>\n",
       "    <tr>\n",
       "      <th>24</th>\n",
       "      <td>r_con_pba_6hr</td>\n",
       "      <td>drp1</td>\n",
       "      <td>10.1866</td>\n",
       "      <td>3.84087</td>\n",
       "      <td>0.0697885</td>\n",
       "    </tr>\n",
       "    <tr>\n",
       "      <th>27</th>\n",
       "      <td>r_pba_6hr</td>\n",
       "      <td>drp1</td>\n",
       "      <td>4.25229</td>\n",
       "      <td>-2.09347</td>\n",
       "      <td>4.26773</td>\n",
       "    </tr>\n",
       "    <tr>\n",
       "      <th>30</th>\n",
       "      <td>r450+pba_6hr</td>\n",
       "      <td>drp1</td>\n",
       "      <td>11.1866</td>\n",
       "      <td>4.84087</td>\n",
       "      <td>0.0348941</td>\n",
       "    </tr>\n",
       "    <tr>\n",
       "      <th>33</th>\n",
       "      <td>r450_6hr_pba</td>\n",
       "      <td>drp1</td>\n",
       "      <td>10.264</td>\n",
       "      <td>3.91819</td>\n",
       "      <td>0.0661464</td>\n",
       "    </tr>\n",
       "    <tr>\n",
       "      <th>36</th>\n",
       "      <td>r_con_ire1a_6hr</td>\n",
       "      <td>drp1</td>\n",
       "      <td>6.07955</td>\n",
       "      <td>-0.266211</td>\n",
       "      <td>1.20264</td>\n",
       "    </tr>\n",
       "    <tr>\n",
       "      <th>39</th>\n",
       "      <td>r_ire1a_6hr</td>\n",
       "      <td>drp1</td>\n",
       "      <td>14.2905</td>\n",
       "      <td>7.94479</td>\n",
       "      <td>0.00405863</td>\n",
       "    </tr>\n",
       "    <tr>\n",
       "      <th>42</th>\n",
       "      <td>r450+ire1a_6hr</td>\n",
       "      <td>drp1</td>\n",
       "      <td>10.6539</td>\n",
       "      <td>4.30816</td>\n",
       "      <td>0.0504794</td>\n",
       "    </tr>\n",
       "    <tr>\n",
       "      <th>45</th>\n",
       "      <td>r_450_6hr_ire1a</td>\n",
       "      <td>drp1</td>\n",
       "      <td>7.60896</td>\n",
       "      <td>1.2632</td>\n",
       "      <td>0.416619</td>\n",
       "    </tr>\n",
       "  </tbody>\n",
       "</table>\n",
       "</div>"
      ],
      "text/plain": [
       "        Sample Name Target Name Avg Delta CT Delta Delta CT    Fold Inc\n",
       "0   r_con_tempo_6hr        drp1      6.34576              0           1\n",
       "3       r_tempo_6hr        drp1      3.98107       -2.36469      5.1504\n",
       "6    r450+tempo_6hr        drp1      3.10142       -3.24434     9.47639\n",
       "9    r450_6hr_tempo        drp1      2.73302       -3.61274     12.2333\n",
       "12   r_con_perk_4hr        drp1      3.55507       -2.79069     6.91962\n",
       "15       r_perk_4hr        drp1      4.94168       -1.40407     2.64648\n",
       "18    r450+perk_4hr        drp1      5.03027       -1.31549     2.48887\n",
       "21    r450_4hr_perk        drp1      4.75996        -1.5858     3.00175\n",
       "24    r_con_pba_6hr        drp1      10.1866        3.84087   0.0697885\n",
       "27        r_pba_6hr        drp1      4.25229       -2.09347     4.26773\n",
       "30     r450+pba_6hr        drp1      11.1866        4.84087   0.0348941\n",
       "33     r450_6hr_pba        drp1       10.264        3.91819   0.0661464\n",
       "36  r_con_ire1a_6hr        drp1      6.07955      -0.266211     1.20264\n",
       "39      r_ire1a_6hr        drp1      14.2905        7.94479  0.00405863\n",
       "42   r450+ire1a_6hr        drp1      10.6539        4.30816   0.0504794\n",
       "45  r_450_6hr_ire1a        drp1      7.60896         1.2632    0.416619"
      ]
     },
     "execution_count": 24,
     "metadata": {},
     "output_type": "execute_result"
    }
   ],
   "source": [
    "output"
   ]
  },
  {
   "cell_type": "code",
   "execution_count": 85,
   "metadata": {},
   "outputs": [
    {
     "data": {
      "image/png": "[encoded data removed]",
      "text/plain": [
       "<Figure size 720x360 with 1 Axes>"
      ]
     },
     "metadata": {
      "needs_background": "light"
     },
     "output_type": "display_data"
    }
   ],
   "source": [
    "# bar graph with each gene \n",
    "# each bar represents differrent sample\n",
    "output['Fold Inc'].plot(kind=\"bar\", figsize=(10,5), color = \"darkblue\")\n",
    "plt.title('CT Values')\n",
    "plt.ylabel('CT') \n",
    "\n",
    "# make it neat\n",
    "plt.tight_layout()\n",
    "plt.show()"
   ]
  },
  {
   "cell_type": "markdown",
   "metadata": {},
   "source": []
  },
  {
   "cell_type": "code",
   "execution_count": 86,
   "metadata": {},
   "outputs": [],
   "source": [
    "# output\n",
    "output.to_excel(\"qpcr_ctvalues.xlsx\")"
   ]
  },
  {
   "cell_type": "code",
   "execution_count": null,
   "metadata": {},
   "outputs": [],
   "source": []
  }
 ],
 "metadata": {
  "kernelspec": {
   "display_name": "PythonData",
   "language": "python",
   "name": "pythondata"
  },
  "language_info": {
   "codemirror_mode": {
    "name": "ipython",
    "version": 3
   },
   "file_extension": ".py",
   "mimetype": "text/x-python",
   "name": "python",
   "nbconvert_exporter": "python",
   "pygments_lexer": "ipython3",
   "version": "3.7.7"
  }
 },
 "nbformat": 4,
 "nbformat_minor": 4
}
