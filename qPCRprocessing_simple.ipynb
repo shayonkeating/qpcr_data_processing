{
 "cells": [
  {
   "cell_type": "markdown",
   "metadata": {},
   "source": [
    "## Calc CT Values"
   ]
  },
  {
   "cell_type": "code",
   "execution_count": 22,
   "metadata": {},
   "outputs": [],
   "source": [
    "# import dep\n",
    "import pandas as pd\n",
    "import numpy as np\n",
    "import matplotlib.pyplot as plt"
   ]
  },
  {
   "cell_type": "code",
   "execution_count": 54,
   "metadata": {},
   "outputs": [],
   "source": [
    "input_file = \"18hr_mt_pink1_park_gapdh_06292020.xls\"\n",
    "gene = 'park'\n",
    "house_keeping = 'gapdh'"
   ]
  },
  {
   "cell_type": "code",
   "execution_count": 55,
   "metadata": {},
   "outputs": [],
   "source": [
    "# read raw excel file and separte sheets into dfs\n",
    "xls = pd.ExcelFile(input_file)\n",
    "# df1 = pd.read_excel(xls, 'Sample Setup')\n",
    "df2 = pd.read_excel(xls, 'Results')\n",
    "# df3 = pd.read_excel(xls, 'Raw Data')\n",
    "# df4 = pd.read_excel(xls, 'Multicomponent Data')\n",
    "# df5 = pd.read_excel(xls, 'Amplification Data')\n",
    "\n",
    "# reset column names and clean df \n",
    "index_name = pd.Index((df2.iloc[6]).to_list())\n",
    "index = df2.drop(df2.index[range(7)])\n",
    "index.columns = index_name\n",
    "\n",
    "# # select only what you need and drop na\n",
    "# index = index[['Well', 'Sample Name', 'Target Name', 'Cт', 'Cт Mean', 'Cт SD']].dropna()"
   ]
  },
  {
   "cell_type": "code",
   "execution_count": 56,
   "metadata": {},
   "outputs": [],
   "source": [
    "# def a gene select processing function that prints the output\n",
    "gene1 = index.loc[index['Target Name'] == gene].reset_index()\n",
    "housekeeping = index.loc[index['Target Name'] == house_keeping].reset_index()\n",
    "\n",
    "# reads in triplicates or reads in duplicates\n",
    "select_gene1 = gene1.loc[::2]\n",
    "select_housekeeping = housekeeping.loc[::2]\n",
    "\n",
    "# delta_ct and  then select first delta_ct value\n",
    "delta_ct = (select_gene1['Cт Mean']-select_housekeeping['Cт Mean'])\n",
    "first_delta_ct = delta_ct.iloc[0]\n",
    "\n",
    "# delta delta ct\n",
    "delta_ct2 = delta_ct - first_delta_ct\n",
    "\n",
    "# fold change\n",
    "fold_change = 2**(-delta_ct2)\n",
    "gene1_list = [select_gene1['Sample Name'], select_gene1['Target Name'],\n",
    "              delta_ct, delta_ct2, fold_change]\n",
    "output = pd.DataFrame(gene1_list).transpose()\n",
    "output.columns = ['Sample Name', 'Target Name', \n",
    "                           'Avg Delta CT', 'Delta Delta CT', 'Fold Inc']\n",
    "\n",
    "# output save\n",
    "# output.to_excel(r'/Users/shayonkeating/Documents/Sadikot_Lab/qPCR_output/qPCR.xlsx', index = False)"
   ]
  },
  {
   "cell_type": "code",
   "execution_count": 57,
   "metadata": {},
   "outputs": [],
   "source": [
    "output1 = output[0:4]"
   ]
  },
  {
   "cell_type": "markdown",
   "metadata": {},
   "source": [
    "### Bar plot"
   ]
  },
  {
   "cell_type": "code",
   "execution_count": 58,
   "metadata": {},
   "outputs": [
    {
     "data": {
      "image/png": "[encoded data removed]",
      "text/plain": [
       "<Figure size 432x288 with 1 Axes>"
      ]
     },
     "metadata": {
      "needs_background": "light"
     },
     "output_type": "display_data"
    }
   ],
   "source": [
    "sample_name = output1[\"Sample Name\"]\n",
    "fold_inc = output1[\"Fold Inc\"]\n",
    "plt.bar(sample_name, fold_inc, align='center', alpha=0.5)\n",
    "plt.title(f\"{gene}\")\n",
    "\n",
    "plt.savefig('gene.png', dpi = 500)"
   ]
  },
  {
   "cell_type": "code",
   "execution_count": null,
   "metadata": {},
   "outputs": [],
   "source": []
  }
 ],
 "metadata": {
  "kernelspec": {
   "display_name": "PythonData",
   "language": "python",
   "name": "pythondata"
  },
  "language_info": {
   "codemirror_mode": {
    "name": "ipython",
    "version": 3
   },
   "file_extension": ".py",
   "mimetype": "text/x-python",
   "name": "python",
   "nbconvert_exporter": "python",
   "pygments_lexer": "ipython3",
   "version": "3.7.7"
  }
 },
 "nbformat": 4,
 "nbformat_minor": 4
}
